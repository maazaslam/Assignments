{
 "cells": [
  {
   "cell_type": "markdown",
   "metadata": {
    "id": "Ew9wc2ikKB7T"
   },
   "source": [
    "## Q1. Write an SQL query to fetch “FIRST_NAME” from Worker table using the alias name as WORKER_NAME."
   ]
  },
  {
   "cell_type": "code",
   "execution_count": null,
   "metadata": {
    "id": "uMNtddknJ_cq"
   },
   "outputs": [],
   "source": [
    "select FIRST_NAME as WORKER_NAME from Worker"
   ]
  },
  {
   "cell_type": "markdown",
   "metadata": {
    "id": "4S3X__jMPS84"
   },
   "source": [
    "## Q2. Write an SQL query to fetch unique values of DEPARTMENT from Worker table."
   ]
  },
  {
   "cell_type": "code",
   "execution_count": null,
   "metadata": {
    "id": "aZnI2KSQPVNV"
   },
   "outputs": [],
   "source": [
    "select DISTINCT DEPARTMENT from Worker"
   ]
  },
  {
   "cell_type": "markdown",
   "metadata": {
    "id": "wNhtCYXVPb4q"
   },
   "source": [
    "## Q3. Write an SQL query to show the last 5 record from a table.\n"
   ]
  },
  {
   "cell_type": "code",
   "execution_count": null,
   "metadata": {
    "id": "KdCbxwIUPfNp"
   },
   "outputs": [],
   "source": [
    "select * from Worker order by id desc limit 5"
   ]
  }
 ],
 "metadata": {
  "colab": {
   "name": "SQL 1.ipynb",
   "provenance": []
  },
  "kernelspec": {
   "display_name": "Python 3",
   "language": "python",
   "name": "python3"
  },
  "language_info": {
   "codemirror_mode": {
    "name": "ipython",
    "version": 3
   },
   "file_extension": ".py",
   "mimetype": "text/x-python",
   "name": "python",
   "nbconvert_exporter": "python",
   "pygments_lexer": "ipython3",
   "version": "3.8.8"
  }
 },
 "nbformat": 4,
 "nbformat_minor": 1
}
