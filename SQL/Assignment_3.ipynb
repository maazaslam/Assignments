{
 "cells": [
  {
   "cell_type": "markdown",
   "metadata": {
    "id": "pS-5pYQDXstJ"
   },
   "source": [
    "## 1.Write an SQL query to print the FIRST_NAME from Worker table after removing white spaces from the right side."
   ]
  },
  {
   "cell_type": "code",
   "execution_count": null,
   "metadata": {
    "id": "PwpU9cF2XkIL"
   },
   "outputs": [],
   "source": [
    "select RTRIM(FIRST_NAME) from Worker;"
   ]
  },
  {
   "cell_type": "markdown",
   "metadata": {
    "id": "8Awmt6R1YJyg"
   },
   "source": [
    "## 2.Write an SQL query that fetches the unique values of DEPARTMENT from Worker table and prints its length."
   ]
  },
  {
   "cell_type": "code",
   "execution_count": null,
   "metadata": {
    "id": "svIQJu9PYOSM"
   },
   "outputs": [],
   "source": [
    "select DISTINCT LENGTH(DEPARTMENT) from Worker;"
   ]
  },
  {
   "cell_type": "markdown",
   "metadata": {
    "id": "U-OHrlpgYd5U"
   },
   "source": [
    "## 3.Write an SQL query to fetch nth max salaries from a table."
   ]
  },
  {
   "cell_type": "code",
   "execution_count": null,
   "metadata": {
    "id": "3-fC7YzEYfTb"
   },
   "outputs": [],
   "source": [
    "select salary from (select * from Table order by salary desc limit n) order by salary asc limit 1;"
   ]
  }
 ],
 "metadata": {
  "colab": {
   "name": "SQL 3 C.ipynb",
   "provenance": []
  },
  "kernelspec": {
   "display_name": "Python 3",
   "language": "python",
   "name": "python3"
  },
  "language_info": {
   "codemirror_mode": {
    "name": "ipython",
    "version": 3
   },
   "file_extension": ".py",
   "mimetype": "text/x-python",
   "name": "python",
   "nbconvert_exporter": "python",
   "pygments_lexer": "ipython3",
   "version": "3.8.8"
  }
 },
 "nbformat": 4,
 "nbformat_minor": 1
}
