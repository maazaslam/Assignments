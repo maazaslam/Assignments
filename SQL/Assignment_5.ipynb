{
 "cells": [
  {
   "cell_type": "markdown",
   "metadata": {
    "id": "omarC7xub43_"
   },
   "source": [
    "## 1.Write an SQL query to print details of workers excluding first names, “Vipul” and “Satish” from Worker table."
   ]
  },
  {
   "cell_type": "code",
   "execution_count": null,
   "metadata": {
    "id": "lMQXqRZAb1AT"
   },
   "outputs": [],
   "source": [
    "select * from Workers where FIRST_NAME NOT IN (\"Vipul\",\"Satish\");"
   ]
  },
  {
   "cell_type": "markdown",
   "metadata": {
    "id": "ZdlpJpD7ced0"
   },
   "source": [
    "## 2.Write an SQL query to print details of the Workers whose FIRST_NAME ends with ‘h’ and contains six alphabets."
   ]
  },
  {
   "cell_type": "code",
   "execution_count": null,
   "metadata": {
    "id": "2HhP-DJ0cgBv"
   },
   "outputs": [],
   "source": [
    "select * from Workers where FIRST_NAME like \"_____h\";"
   ]
  },
  {
   "cell_type": "markdown",
   "metadata": {
    "id": "Qyyjv2LkdI1x"
   },
   "source": [
    "## 3.Write a query to validate Email of Employee."
   ]
  },
  {
   "cell_type": "code",
   "execution_count": null,
   "metadata": {
    "id": "rWWPnJ57dNcB"
   },
   "outputs": [],
   "source": [
    "select * from Employee where Email like \"%_@_%._%\";"
   ]
  }
 ],
 "metadata": {
  "colab": {
   "name": "SQL 5.ipynb",
   "provenance": []
  },
  "kernelspec": {
   "display_name": "Python 3",
   "language": "python",
   "name": "python3"
  },
  "language_info": {
   "codemirror_mode": {
    "name": "ipython",
    "version": 3
   },
   "file_extension": ".py",
   "mimetype": "text/x-python",
   "name": "python",
   "nbconvert_exporter": "python",
   "pygments_lexer": "ipython3",
   "version": "3.8.8"
  }
 },
 "nbformat": 4,
 "nbformat_minor": 1
}
