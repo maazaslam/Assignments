{
 "cells": [
  {
   "cell_type": "markdown",
   "metadata": {
    "id": "vpFgzb_0ZgDo"
   },
   "source": [
    "## 1.Write an SQL query to print the FIRST_NAME from Worker table after replacing ‘a’ with ‘A’."
   ]
  },
  {
   "cell_type": "code",
   "execution_count": null,
   "metadata": {
    "id": "jifJlfkbZafc"
   },
   "outputs": [],
   "source": [
    "select REPLACE(FIRST_NAME, \"a\", \"A\") from Worker;"
   ]
  },
  {
   "cell_type": "markdown",
   "metadata": {
    "id": "-ZKpKMwWZ4xd"
   },
   "source": [
    "## 2.Write an SQL query to print all Worker details from the Worker table order by FIRST_NAME Ascending and DEPARTMENT Descending."
   ]
  },
  {
   "cell_type": "code",
   "execution_count": null,
   "metadata": {
    "id": "pV_ZMPhZZ8ND"
   },
   "outputs": [],
   "source": [
    "select * from Worker order by FIRST_NAME asc, DEPARTMENT desc;"
   ]
  },
  {
   "cell_type": "markdown",
   "metadata": {
    "id": "TAskEll-aeJB"
   },
   "source": [
    "## 3.Write an SQL query to fetch the names of workers who earn the highest salary."
   ]
  },
  {
   "cell_type": "code",
   "execution_count": null,
   "metadata": {
    "id": "KMEl8DMcaiA3"
   },
   "outputs": [],
   "source": [
    "select FIRST_NAME, LAST_NAME from Worker where salary = (select MAX(salary) from Worker);"
   ]
  }
 ],
 "metadata": {
  "colab": {
   "name": "SQL 4 C.ipynb",
   "provenance": []
  },
  "kernelspec": {
   "display_name": "Python 3",
   "language": "python",
   "name": "python3"
  },
  "language_info": {
   "codemirror_mode": {
    "name": "ipython",
    "version": 3
   },
   "file_extension": ".py",
   "mimetype": "text/x-python",
   "name": "python",
   "nbconvert_exporter": "python",
   "pygments_lexer": "ipython3",
   "version": "3.8.8"
  }
 },
 "nbformat": 4,
 "nbformat_minor": 1
}
