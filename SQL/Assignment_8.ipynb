{
 "cells": [
  {
   "cell_type": "markdown",
   "metadata": {
    "id": "Ggnqbl7fi7Uh"
   },
   "source": [
    "## 1.Write an SQL query to fetch intersecting records of two tables.\n"
   ]
  },
  {
   "cell_type": "code",
   "execution_count": null,
   "metadata": {
    "id": "aALTJV7Oiaq0"
   },
   "outputs": [],
   "source": [
    "select * from Tabel1\n",
    "INTERSECT\n",
    "select * from Table1;"
   ]
  },
  {
   "cell_type": "markdown",
   "metadata": {
    "id": "LYiADkmWjD8w"
   },
   "source": [
    "## 2.Write an SQL query to show records from one table that another table does not have.\n"
   ]
  },
  {
   "cell_type": "code",
   "execution_count": null,
   "metadata": {
    "id": "3eugHbg7jFzM"
   },
   "outputs": [],
   "source": [
    "select * from Table1 where Id NOT IN (select Id from Table2);"
   ]
  }
 ],
 "metadata": {
  "colab": {
   "name": "SQL 8.ipynb",
   "provenance": []
  },
  "kernelspec": {
   "display_name": "Python 3",
   "language": "python",
   "name": "python3"
  },
  "language_info": {
   "codemirror_mode": {
    "name": "ipython",
    "version": 3
   },
   "file_extension": ".py",
   "mimetype": "text/x-python",
   "name": "python",
   "nbconvert_exporter": "python",
   "pygments_lexer": "ipython3",
   "version": "3.8.8"
  }
 },
 "nbformat": 4,
 "nbformat_minor": 1
}
