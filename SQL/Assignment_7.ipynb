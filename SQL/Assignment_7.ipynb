{
 "cells": [
  {
   "cell_type": "markdown",
   "metadata": {
    "id": "YOzQrzsWg9sW"
   },
   "source": [
    "## 1. Write an SQL query to show only odd rows from a table.\n"
   ]
  },
  {
   "cell_type": "code",
   "execution_count": null,
   "metadata": {
    "id": "xNLtdDxcgecB"
   },
   "outputs": [],
   "source": [
    "select * from Table where MOD(Id, 2) = 1;"
   ]
  },
  {
   "cell_type": "markdown",
   "metadata": {
    "id": "i6_y2ILKhHcn"
   },
   "source": [
    "## 2.Write an SQL query to clone a new table from another table."
   ]
  },
  {
   "cell_type": "code",
   "execution_count": null,
   "metadata": {
    "id": "54x9FzbdhI2I"
   },
   "outputs": [],
   "source": [
    "CREATE TABLE \"CLONE\" ( \n",
    "    'id' int(11) NOT NULL auto_increment, \n",
    "    'name' varchar(100) NOT NULL default '', \n",
    " );\n",
    "#Assuming this the sturcture of the original table\n",
    "insert into CLONE (id, name)  SELECT id,name from ORIGINAL; "
   ]
  }
 ],
 "metadata": {
  "colab": {
   "name": "SQL 7 c.ipynb",
   "provenance": []
  },
  "kernelspec": {
   "display_name": "Python 3",
   "language": "python",
   "name": "python3"
  },
  "language_info": {
   "codemirror_mode": {
    "name": "ipython",
    "version": 3
   },
   "file_extension": ".py",
   "mimetype": "text/x-python",
   "name": "python",
   "nbconvert_exporter": "python",
   "pygments_lexer": "ipython3",
   "version": "3.8.8"
  }
 },
 "nbformat": 4,
 "nbformat_minor": 1
}
