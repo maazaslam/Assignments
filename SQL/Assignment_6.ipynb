{
 "cells": [
  {
   "cell_type": "markdown",
   "metadata": {
    "id": "bsxRYdMHecGD"
   },
   "source": [
    "## 1.Write an SQL query to print details of the Workers who have joined in Feb’2014."
   ]
  },
  {
   "cell_type": "code",
   "execution_count": null,
   "metadata": {
    "id": "EReCTFO_eATh"
   },
   "outputs": [],
   "source": [
    "select * from Workers where JOINING_YEAR = 2014 and JOINING_MONTH = 2;"
   ]
  },
  {
   "cell_type": "markdown",
   "metadata": {
    "id": "m9idV3eKex8M"
   },
   "source": [
    "## 2.Write an SQL query to fetch duplicate records having matching data in some fields of a table.\n"
   ]
  },
  {
   "cell_type": "code",
   "execution_count": null,
   "metadata": {
    "id": "vTNOLC-GezHQ"
   },
   "outputs": [],
   "source": [
    "select * , COUNT(*) from Workers group by EMAIL having COUNT(*) > 1;"
   ]
  },
  {
   "cell_type": "markdown",
   "metadata": {
    "id": "xUzMTULrfbx3"
   },
   "source": [
    "## 3.How to remove duplicate rows from Employees table.\n"
   ]
  },
  {
   "cell_type": "code",
   "execution_count": null,
   "metadata": {
    "id": "fCQAaSJJfc8U"
   },
   "outputs": [],
   "source": [
    "delete e from Employee e\n",
    "join Employee e2\n",
    "where e.Id > e2.Id\n",
    "and e.Email = e2.Email;"
   ]
  }
 ],
 "metadata": {
  "colab": {
   "name": "SQL 6 C.ipynb",
   "provenance": []
  },
  "kernelspec": {
   "display_name": "Python 3",
   "language": "python",
   "name": "python3"
  },
  "language_info": {
   "codemirror_mode": {
    "name": "ipython",
    "version": 3
   },
   "file_extension": ".py",
   "mimetype": "text/x-python",
   "name": "python",
   "nbconvert_exporter": "python",
   "pygments_lexer": "ipython3",
   "version": "3.8.8"
  }
 },
 "nbformat": 4,
 "nbformat_minor": 1
}
