{
 "cells": [
  {
   "cell_type": "markdown",
   "metadata": {
    "id": "Eh3nGxPUjyBG"
   },
   "source": [
    "## 1.Write an SQL query to show the top n (say 10) records of a table."
   ]
  },
  {
   "cell_type": "code",
   "execution_count": null,
   "metadata": {
    "id": "ZxcIaNn_jp8s"
   },
   "outputs": [],
   "source": [
    "select * from Table limit 10;"
   ]
  },
  {
   "cell_type": "markdown",
   "metadata": {
    "id": "2VgSwL7mkAsS"
   },
   "source": [
    "## 2.Write an SQL query to determine the nth (say n=5) highest salary from a table."
   ]
  },
  {
   "cell_type": "code",
   "execution_count": null,
   "metadata": {
    "id": "NNEaelV9kCIV"
   },
   "outputs": [],
   "source": [
    "select * from ((select * from Table order by salary desc 5) as T) order by T.salary limit 1;"
   ]
  }
 ],
 "metadata": {
  "colab": {
   "name": "SQL 9.ipynb",
   "provenance": []
  },
  "kernelspec": {
   "display_name": "Python 3",
   "language": "python",
   "name": "python3"
  },
  "language_info": {
   "codemirror_mode": {
    "name": "ipython",
    "version": 3
   },
   "file_extension": ".py",
   "mimetype": "text/x-python",
   "name": "python",
   "nbconvert_exporter": "python",
   "pygments_lexer": "ipython3",
   "version": "3.8.8"
  }
 },
 "nbformat": 4,
 "nbformat_minor": 1
}
