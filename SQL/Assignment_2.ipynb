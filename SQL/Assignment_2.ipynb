{
 "cells": [
  {
   "cell_type": "markdown",
   "metadata": {
    "id": "7dBgt2xMTd5J"
   },
   "source": [
    "## 1.Write an SQL query to print the first three characters of  FIRST_NAME from Worker table.\n"
   ]
  },
  {
   "cell_type": "code",
   "execution_count": null,
   "metadata": {
    "id": "52GsPC5pQNx1"
   },
   "outputs": [],
   "source": [
    "select SUBSTR(FIRST_NAME,1, 3) from Worker"
   ]
  },
  {
   "cell_type": "markdown",
   "metadata": {
    "id": "7OcgzC4MUe5B"
   },
   "source": [
    "## 2.Write an SQL query to find the position of the alphabet (‘a’) in the first name column ‘Amitabh’ from Worker table."
   ]
  },
  {
   "cell_type": "code",
   "execution_count": null,
   "metadata": {
    "id": "sOs9oiGyUjHY"
   },
   "outputs": [],
   "source": [
    "select POSITION(\"a\" IN first_name) from Worker where first_name = \"Amitabh\""
   ]
  },
  {
   "cell_type": "markdown",
   "metadata": {
    "id": "jXd-OKAoU_HN"
   },
   "source": [
    "## 3. Write an SQL query to print the name of employees having the highest salary in each department"
   ]
  },
  {
   "cell_type": "code",
   "execution_count": null,
   "metadata": {
    "id": "pOH6p_YoVBvI"
   },
   "outputs": [],
   "source": [
    "# Assuming there is two different table for employee and department\n",
    "select Department.Name as Department, e1.Name as Employee, e1.Salary as Salary from Department \n",
    "join Employee e1 ON Department.Id = e1.DepartmentId\n",
    "where e1.Salary = (select Max(Salary) from Employee e2 where e2.DepartmentId = e1.DepartmentId)"
   ]
  }
 ],
 "metadata": {
  "colab": {
   "name": "SQL 2 C.ipynb",
   "provenance": []
  },
  "kernelspec": {
   "display_name": "Python 3",
   "language": "python",
   "name": "python3"
  },
  "language_info": {
   "codemirror_mode": {
    "name": "ipython",
    "version": 3
   },
   "file_extension": ".py",
   "mimetype": "text/x-python",
   "name": "python",
   "nbconvert_exporter": "python",
   "pygments_lexer": "ipython3",
   "version": "3.8.8"
  }
 },
 "nbformat": 4,
 "nbformat_minor": 1
}
