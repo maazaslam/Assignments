{
 "cells": [
  {
   "cell_type": "markdown",
   "metadata": {
    "id": "5gJ15WKnl6_u"
   },
   "source": [
    "## 1.Write an SQL query to determine the 5th highest salary without using TOP or limit method.\n"
   ]
  },
  {
   "cell_type": "code",
   "execution_count": null,
   "metadata": {
    "id": "EsRYgyaNkxMb"
   },
   "outputs": [],
   "source": [
    "SELECT salary from Employee e1 where \n",
    "        4 = (SELECT COUNT(DISTINCT salary)from Employee e2 where e2.salary > e1.salary) "
   ]
  },
  {
   "cell_type": "markdown",
   "metadata": {
    "id": "IADRZdDKmAMf"
   },
   "source": [
    "## 2.Write an SQL query to fetch the list of employees with the same salary.\n"
   ]
  },
  {
   "cell_type": "code",
   "execution_count": null,
   "metadata": {
    "id": "ejl7mB-El8rg"
   },
   "outputs": [],
   "source": [
    "Select DISTINCT w.Id, w.Salary \n",
    "from Worker w, Worker w1 \n",
    "where w.Salary = w1.Salary \n",
    "and w.Id != w1.Id;"
   ]
  }
 ],
 "metadata": {
  "colab": {
   "name": "SQL 10.ipynb",
   "provenance": []
  },
  "kernelspec": {
   "display_name": "Python 3",
   "language": "python",
   "name": "python3"
  },
  "language_info": {
   "codemirror_mode": {
    "name": "ipython",
    "version": 3
   },
   "file_extension": ".py",
   "mimetype": "text/x-python",
   "name": "python",
   "nbconvert_exporter": "python",
   "pygments_lexer": "ipython3",
   "version": "3.8.8"
  }
 },
 "nbformat": 4,
 "nbformat_minor": 1
}
