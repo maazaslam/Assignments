{
 "cells": [
  {
   "cell_type": "markdown",
   "metadata": {
    "id": "dGbcHCBRIcoJ"
   },
   "source": [
    "## Q1. Define the Bayesian interpretation of probability.\n"
   ]
  },
  {
   "cell_type": "code",
   "execution_count": null,
   "metadata": {
    "id": "xVhL1Ee4IZY3"
   },
   "outputs": [],
   "source": [
    "'''\n",
    "In the Bayesian interpretation, probability measures a degree of belief. \n",
    "Bayes’s theorem then links the degree of belief in a proposition before and after accounting for evidence. \n",
    "For example, suppose it is believed with 50% certainty that a coin is twice as likely to land heads than tails. \n",
    "If the coin is flipped a number of times and the outcomes observed, that degree of belief may rise, fall or remain the same depending on the results.\n",
    "'''"
   ]
  },
  {
   "cell_type": "markdown",
   "metadata": {
    "id": "X0Hk3ijhIeNE"
   },
   "source": [
    "## Q2. Define probability of a union of two events with equation."
   ]
  },
  {
   "cell_type": "code",
   "execution_count": null,
   "metadata": {
    "id": "Rn5whx45IkUG"
   },
   "outputs": [],
   "source": [
    "'''\n",
    "Probablity of union of event A and event B is denoted by P(A U B) = P(A) + P(B) - P(A ∩ B)\n",
    "'''"
   ]
  },
  {
   "cell_type": "markdown",
   "metadata": {
    "id": "4adcGBEKJJlR"
   },
   "source": [
    "## Q3. What is joint probability? What is its formula?"
   ]
  },
  {
   "cell_type": "code",
   "execution_count": null,
   "metadata": {
    "id": "8rbufzggJPS3"
   },
   "outputs": [],
   "source": [
    "'''\n",
    "The joint probablity is a statistical measure of the likelihood of two event happening together at the same point of time.\n",
    "it can be calculated by P(A ∩ B) = P(A) * P(B)\n",
    "'''"
   ]
  },
  {
   "cell_type": "markdown",
   "metadata": {
    "id": "gT07Lo8oLMxI"
   },
   "source": [
    "## Q4. What is chain rule of probability?"
   ]
  },
  {
   "cell_type": "code",
   "execution_count": null,
   "metadata": {
    "id": "eMGQDb2bLOHu"
   },
   "outputs": [],
   "source": [
    "'''\n",
    "chain rule permits the calculation of any member of the joint distribution of a set of random variables using only conditional probabilities\n",
    "'''"
   ]
  },
  {
   "cell_type": "markdown",
   "metadata": {
    "id": "ng__Hi2JNQVh"
   },
   "source": [
    "## Q5. What is conditional probability means? What is the formula of it?\n"
   ]
  },
  {
   "cell_type": "code",
   "execution_count": null,
   "metadata": {
    "id": "EbPGWCpYNSgI"
   },
   "outputs": [],
   "source": [
    "'''\n",
    "Conditional probablity is the likeihood of event A occuring based on the fact that Event B has already occured.\n",
    "It can be defined by- P(A|B) = P(A∩B) / P(B)\n",
    "'''\n"
   ]
  },
  {
   "cell_type": "markdown",
   "metadata": {
    "id": "ZToXbj_yOJjH"
   },
   "source": [
    "## Q6. What are continuous random variables?\n"
   ]
  },
  {
   "cell_type": "code",
   "execution_count": null,
   "metadata": {
    "id": "ub-W7AMmOLBY"
   },
   "outputs": [],
   "source": [
    "'''\n",
    "A continuous random variable is one which takes an infinite number of possible values.\n",
    "Examples include height, weight, the amount of sugar in an orange, the time required to run a mile\n",
    "'''"
   ]
  },
  {
   "cell_type": "markdown",
   "metadata": {
    "id": "D2eZH3fwYl56"
   },
   "source": [
    "## Q7. What are Bernoulli distributions? What is the formula of it?\n"
   ]
  },
  {
   "cell_type": "code",
   "execution_count": null,
   "metadata": {
    "id": "FNu59cjGYuBr"
   },
   "outputs": [],
   "source": [
    "'''\n",
    "The Bernoulli distribution is a discrete distribution having two possible outcomes labelled by n=0 and n=1 in which n=1 (\"success\") \n",
    "occurs with probability p and n=0 (\"failure\") occurs with probability q=1-p, where 0<p<1.\n",
    "it can be defined by P(X=x) = p^x(1-p)^1-x\n",
    "'''"
   ]
  },
  {
   "cell_type": "markdown",
   "metadata": {
    "id": "Djr9DM8HlJJO"
   },
   "source": [
    "## Q8. What is binomial distribution? What is the formula?\n"
   ]
  },
  {
   "cell_type": "code",
   "execution_count": null,
   "metadata": {
    "id": "mLaZzgqhlLGQ"
   },
   "outputs": [],
   "source": [
    "'''\n",
    "The binomial distribution is a probability distribution that summarizes the likelihood that \n",
    "a value will take one of two independent values under a given set of parameters or assumptions.\n",
    "tasks must be mutually exclusive.\n",
    "it can be defined by - bin(n,k) = nCk(p)^k*(1-p)^n\n",
    "'''"
   ]
  },
  {
   "cell_type": "markdown",
   "metadata": {
    "id": "Vz5fF0VJuDOu"
   },
   "source": [
    "## Q9. What is Poisson distribution? What is the formula?\n"
   ]
  },
  {
   "cell_type": "code",
   "execution_count": null,
   "metadata": {
    "id": "RmxnDD1JuE6L"
   },
   "outputs": [],
   "source": [
    "'''\n",
    "In statistics, a Poisson distribution is a probability distribution that \n",
    "can be used to show how many times an event is likely to occur within a specified period of time.\n",
    "it can be defined by - f(x) = lambda^x*e^-lambda/x!\n",
    "'''"
   ]
  },
  {
   "cell_type": "markdown",
   "metadata": {
    "id": "gpA1PaF0zqxp"
   },
   "source": [
    "## Q10. Define covariance."
   ]
  },
  {
   "cell_type": "code",
   "execution_count": null,
   "metadata": {
    "id": "DGtidUxzzsIz"
   },
   "outputs": [],
   "source": [
    "'''\n",
    "It is a measure of relationship between two random variables.\n",
    "it tells us how one variable changes with respect to other\n",
    "'''"
   ]
  },
  {
   "cell_type": "markdown",
   "metadata": {
    "id": "sKnEyiQZ0lEq"
   },
   "source": [
    "## Q11. Define correlation"
   ]
  },
  {
   "cell_type": "code",
   "execution_count": null,
   "metadata": {
    "id": "HEMVdXnJ0mfZ"
   },
   "outputs": [],
   "source": [
    "'''\n",
    "It is a measure of relationship between two random variables.\n",
    "it tells us to which degree one variable moves with respect to other\n",
    "'''"
   ]
  },
  {
   "cell_type": "markdown",
   "metadata": {
    "id": "B_8uZ7yx021q"
   },
   "source": [
    "## Q12. Define sampling with replacement. Give example."
   ]
  },
  {
   "cell_type": "code",
   "execution_count": null,
   "metadata": {
    "id": "NplcDoeB04LA"
   },
   "outputs": [],
   "source": [
    "'''\n",
    "In this, each item drawn from the sample space is replaced back into the sample space. \n",
    "Hence the sample space remains the same for all the items drawn from it.\n",
    "\n",
    "eg- consider in a bag there are 5 balls with 5 different colors. now if we pick one ball and replace the same color ball with another one. then the probablity of choosing\n",
    "each ball doesn't change.\n",
    "'''"
   ]
  },
  {
   "cell_type": "markdown",
   "metadata": {
    "id": "wr5CliL357lC"
   },
   "source": [
    "## Q13. What is sampling without replacement? Give example."
   ]
  },
  {
   "cell_type": "code",
   "execution_count": null,
   "metadata": {
    "id": "LL3xxRKY53rf"
   },
   "outputs": [],
   "source": [
    "'''\n",
    "In this, any two sample values drawn will be independent. In other words, \n",
    "the probability of the first item does not affect the probability of the second item being drawn.\n",
    "\n",
    "eg-consider in a bag there are 5 balls with 5 different colors. now if we pick one ball. Now we have 4 balls in the bag and there is no chance of getting the same ball \n",
    "twice\n",
    "'''"
   ]
  },
  {
   "cell_type": "markdown",
   "metadata": {
    "id": "msWywlAh_0hM"
   },
   "source": [
    "## Q14. What is hypothesis? Give example."
   ]
  },
  {
   "cell_type": "code",
   "execution_count": null,
   "metadata": {
    "colab": {
     "base_uri": "https://localhost:8080/",
     "height": 54
    },
    "id": "w2bg42Z__2YP",
    "outputId": "1064f09e-3319-4367-dafb-0222c66c4e35"
   },
   "outputs": [
    {
     "data": {
      "application/vnd.google.colaboratory.intrinsic+json": {
       "type": "string"
      },
      "text/plain": [
       "'\\nA hypothesis is an assumption, an idea proposed for the sake of argument so that it can be tested see if it might be true.\\n\\neg - if you give give 5 hour of time daily in learning you will be able to learn ML/DL.\\n\\n'"
      ]
     },
     "execution_count": 1,
     "metadata": {
      "tags": []
     },
     "output_type": "execute_result"
    }
   ],
   "source": [
    "'''\n",
    "A hypothesis is an assumption, an idea proposed for the sake of argument so that it can be tested see if it might be true.\n",
    "\n",
    "eg - if you give give 5 hour of time daily in learning you will be able to learn ML/DL.\n",
    "\n",
    "now this can be tested using various methods\n",
    "'''"
   ]
  }
 ],
 "metadata": {
  "colab": {
   "name": "ML Assignment 10.ipynb",
   "provenance": []
  },
  "kernelspec": {
   "display_name": "Python 3",
   "language": "python",
   "name": "python3"
  },
  "language_info": {
   "codemirror_mode": {
    "name": "ipython",
    "version": 3
   },
   "file_extension": ".py",
   "mimetype": "text/x-python",
   "name": "python",
   "nbconvert_exporter": "python",
   "pygments_lexer": "ipython3",
   "version": "3.8.8"
  }
 },
 "nbformat": 4,
 "nbformat_minor": 1
}
